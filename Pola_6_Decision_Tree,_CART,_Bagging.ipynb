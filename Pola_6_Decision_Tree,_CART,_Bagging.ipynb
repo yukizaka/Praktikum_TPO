{
  "nbformat": 4,
  "nbformat_minor": 0,
  "metadata": {
    "colab": {
      "provenance": [],
      "mount_file_id": "1iWocI68HOmTR5LiLGiK2cQc5wOB7n822",
      "authorship_tag": "ABX9TyN562+Mc1vLaP28bYr2wfSo",
      "include_colab_link": true
    },
    "kernelspec": {
      "name": "python3",
      "display_name": "Python 3"
    },
    "language_info": {
      "name": "python"
    }
  },
  "cells": [
    {
      "cell_type": "markdown",
      "metadata": {
        "id": "view-in-github",
        "colab_type": "text"
      },
      "source": [
        "<a href=\"https://colab.research.google.com/github/yukizaka/Praktikum_TPO/blob/main/Pola_6_Decision_Tree%2C_CART%2C_Bagging.ipynb\" target=\"_parent\"><img src=\"https://colab.research.google.com/assets/colab-badge.svg\" alt=\"Open In Colab\"/></a>"
      ]
    },
    {
      "cell_type": "code",
      "source": [
        "from google.colab import drive\n",
        "drive.mount('/content/drive')"
      ],
      "metadata": {
        "colab": {
          "base_uri": "https://localhost:8080/"
        },
        "id": "9s6mWwcSmPwn",
        "outputId": "51b1e338-b234-4b1d-c63b-cacd302e96bc"
      },
      "execution_count": null,
      "outputs": [
        {
          "output_type": "stream",
          "name": "stdout",
          "text": [
            "Drive already mounted at /content/drive; to attempt to forcibly remount, call drive.mount(\"/content/drive\", force_remount=True).\n"
          ]
        }
      ]
    },
    {
      "cell_type": "markdown",
      "source": [
        "# Library"
      ],
      "metadata": {
        "id": "7XAxlggISR40"
      }
    },
    {
      "cell_type": "code",
      "source": [
        "#Library CART pada python\n",
        "from sklearn.tree import DecisionTreeRegressor\n",
        "\n",
        "#Import Library\n",
        "import pandas as pd\n",
        "from sklearn.tree import DecisionTreeClassifier\n",
        "from sklearn.model_selection import train_test_split\n",
        "from sklearn import metrics\n",
        "\n",
        "import numpy as np\n",
        "import matplotlib.pyplot as plt\n",
        "\n",
        "from sklearn.model_selection import train_test_split\n",
        "import random as rnd\n",
        "from sklearn.metrics import r2_score\n",
        "\n",
        "#Impor Library\n",
        "from sklearn import datasets\n",
        "from sklearn.model_selection import train_test_split\n",
        "from sklearn.preprocessing import StandardScaler\n",
        "from sklearn.linear_model import LogisticRegression\n",
        "from sklearn.pipeline import make_pipeline\n",
        "from sklearn.ensemble import BaggingClassifier\n",
        "from sklearn.model_selection import GridSearchCV\n",
        "\n",
        "from sklearn.tree import export_graphviz\n",
        "import graphviz\n",
        "\n",
        "from sklearn.tree import export_text\n",
        "from sklearn import tree\n"
      ],
      "metadata": {
        "id": "mwNKiu16SUFs"
      },
      "execution_count": 15,
      "outputs": []
    },
    {
      "cell_type": "markdown",
      "source": [
        "# Decision Tree"
      ],
      "metadata": {
        "id": "6QSUsrK7ndWS"
      }
    },
    {
      "cell_type": "code",
      "source": [
        "#Melakukan pembacaaan dataset\n",
        "col_names = ['pregnant', 'glucose', 'bp', 'skin', 'insulin', 'bmi', 'pedigree', 'age', 'label']\n",
        "# load dataset\n",
        "pima = pd.read_csv(\"/content/drive/MyDrive/Colab Notebooks/Praktikum/pima-indians-diabetes.csv\", header=None, names=col_names)\n",
        "#print(pima)\n",
        "\n",
        "#split dataset in features and target variable\n",
        "feature_cols = ['pregnant', 'insulin', 'bmi', 'age','glucose','bp','pedigree']\n",
        "x = pima[feature_cols] # Features\n",
        "y = pima.label # Target variable\n",
        "\n",
        "\n",
        "# Split dataset into training set and test set\n",
        "X_train, X_test, y_train, y_test = train_test_split(x, y, test_size=0.25, random_state=3)\n",
        "\n",
        "\n",
        "# Membuat objek DT\n",
        "# Dapat dioptimalkan dengan menghitung Entropy\n",
        "clf = DecisionTreeClassifier()\n",
        "clf = DecisionTreeClassifier(criterion=\"entropy\", max_depth=3)\n",
        "\n",
        "# Melakukan Pelatihan DT\n",
        "clf = clf.fit(X_train,y_train)\n",
        "\n",
        "# Memprediksi\n",
        "y_pred = clf.predict(X_test)\n",
        "\n",
        "# Menghitung akurasi model\n",
        "print(\"Accuracy:\",metrics.accuracy_score(y_test, y_pred))"
      ],
      "metadata": {
        "colab": {
          "base_uri": "https://localhost:8080/"
        },
        "id": "FKfGHjYvngPw",
        "outputId": "076fa577-e218-46b8-eef2-cadc39742d26"
      },
      "execution_count": null,
      "outputs": [
        {
          "output_type": "stream",
          "name": "stdout",
          "text": [
            "Accuracy: 0.671875\n"
          ]
        }
      ]
    },
    {
      "cell_type": "markdown",
      "source": [
        "# CART (Classification And Regression Tree)"
      ],
      "metadata": {
        "id": "Z9efLKaJqcsc"
      }
    },
    {
      "cell_type": "code",
      "source": [
        "boston_dataset = pd.read_csv(\"/content/drive/MyDrive/Colab Notebooks/Praktikum/boston.csv\")\n",
        "boston = pd.DataFrame(boston_dataset)\n",
        "boston.head()\n",
        "\n",
        "boston['medv'] = boston_dataset['medv'] # Assign the target column\n",
        "names = boston_dataset.columns[:-1] # Feature names\n",
        "\n",
        "\n",
        "array = boston.values\n",
        "\n",
        "X = array[:,0:14]\n",
        "Y = array[:,14]\n",
        "#print(X)\n",
        "#print(Y)\n",
        "\n",
        "\n",
        "X_train, X_test, Y_train, Y_test = train_test_split(X, Y, test_size=0.3, random_state=1234)\n",
        "\n",
        "#model = DecisionTreeRegressor(max_leaf_nodes = 20)\n",
        "\n",
        "model = DecisionTreeRegressor(criterion='squared_error', max_depth=None, max_features=None,\n",
        "           max_leaf_nodes=50,\n",
        "           min_samples_leaf=1,\n",
        "           min_samples_split=2)\n",
        "\n",
        "#Evaluasi\n",
        "rt = model.fit(X_train, Y_train)\n",
        "rt\n",
        "\n",
        "\n",
        "rnd.seed(123458)\n",
        "X_new = X[rnd.randrange(X.shape[0])]\n",
        "X_new = X_new.reshape(1,14)\n",
        "\n",
        "#Prediksi Model\n",
        "YHat = model.predict(X_new)\n",
        "\n",
        "\n",
        "df = pd.DataFrame(X_new, columns = names)\n",
        "df[\"Predicted Price\"] = YHat\n",
        "df.head(1)\n",
        "\n",
        "\n",
        "YHat = model.predict(X_test)\n",
        "print(YHat)\n",
        "\n",
        "#Menghitung Rata-rata Kuadrat\n",
        "r2 = r2_score(Y_test, YHat)\n",
        "print(\"R-Squared = \", r2)\n",
        "\n"
      ],
      "metadata": {
        "colab": {
          "base_uri": "https://localhost:8080/"
        },
        "id": "EfsWLuCUqf3t",
        "outputId": "511eb837-788d-4ea5-8b50-a2602ff56646"
      },
      "execution_count": null,
      "outputs": [
        {
          "output_type": "stream",
          "name": "stdout",
          "text": [
            "[20.46382979 18.06        7.         16.4        31.32       31.32\n",
            " 16.33333333 20.46382979 15.         50.         20.46382979 28.2\n",
            " 27.66666667 13.775       7.         16.3        20.46382979 24.61818182\n",
            " 31.32       10.49       41.45        7.         20.46382979 24.61818182\n",
            " 13.53333333 20.46382979 14.03076923 34.61       19.3875     31.32\n",
            " 13.775      50.         34.61       20.46382979 25.46       15.\n",
            " 20.46382979 20.46382979 20.46382979 20.46382979 20.46382979 18.6\n",
            " 34.61       31.32        7.          7.         50.         13.775\n",
            " 27.66666667 14.03076923 16.33333333 19.3875     19.3875     20.46382979\n",
            " 30.56666667 13.775      13.53333333 50.         20.46382979 31.32\n",
            " 31.32       20.46382979 27.66666667 19.3875     22.45714286 19.3875\n",
            " 30.56666667 20.46382979 14.03076923 34.61       34.61       23.05\n",
            " 25.48571429 23.125      27.66666667  7.         34.61       19.3875\n",
            " 20.46382979 13.775      31.05       20.46382979 25.46       19.3875\n",
            " 20.46382979 25.48571429 24.61818182 18.7        20.46382979 20.46382979\n",
            " 31.32       24.61818182 18.7        20.46382979 14.03076923 20.46382979\n",
            " 16.3        22.45714286 23.3        50.        ]\n",
            "R-Squared =  0.7632021179579653\n"
          ]
        }
      ]
    },
    {
      "cell_type": "markdown",
      "source": [
        "# Bagging"
      ],
      "metadata": {
        "id": "aQHkhrj7qsgA"
      }
    },
    {
      "cell_type": "code",
      "source": [
        "#Load cancer dataset\n",
        "bc = datasets.load_breast_cancer()\n",
        "X = bc.data\n",
        "y = bc.target\n",
        "\n",
        "\n",
        "#membagi dataset\n",
        "X_train, X_test, y_train, y_test = train_test_split(X, y, test_size=0.25, random_state=1, stratify=y)\n",
        "\n",
        "\n",
        "#Melakukan pipelining\n",
        "pipeline = make_pipeline(StandardScaler(),\n",
        "                        LogisticRegression(random_state=1))\n",
        "\n",
        "\n",
        "#Skema bagging\n",
        "bgclassifier = BaggingClassifier(base_estimator=pipeline, n_estimators=100,\n",
        "                                 max_features=8,\n",
        "                                 max_samples=80,\n",
        "                                 random_state=1, n_jobs=5)\n",
        "\n",
        "bgclassifier.fit(X_train, y_train)\n",
        "\n",
        "print('Model test Score: %.3f, ' %bgclassifier.score(X_test, y_test),\n",
        "      'Model training Score: %.3f' %bgclassifier.score(X_train, y_train))\n"
      ],
      "metadata": {
        "id": "Y4Dwj9q6qvJp",
        "colab": {
          "base_uri": "https://localhost:8080/"
        },
        "outputId": "1df4db32-96b1-468d-951b-6ff15c4ef5f3"
      },
      "execution_count": null,
      "outputs": [
        {
          "output_type": "stream",
          "name": "stderr",
          "text": [
            "/usr/local/lib/python3.10/dist-packages/sklearn/ensemble/_base.py:166: FutureWarning: `base_estimator` was renamed to `estimator` in version 1.2 and will be removed in 1.4.\n",
            "  warnings.warn(\n"
          ]
        },
        {
          "output_type": "stream",
          "name": "stdout",
          "text": [
            "Model test Score: 0.958,  Model training Score: 0.960\n"
          ]
        }
      ]
    },
    {
      "cell_type": "markdown",
      "source": [
        "# 1.\tMelakukan visualisasi Tree\n",
        "\n",
        "     *   Decision Tree\n",
        "     *   CART"
      ],
      "metadata": {
        "id": "EA30upKla04k"
      }
    },
    {
      "cell_type": "markdown",
      "source": [],
      "metadata": {
        "id": "bZBWcn4CYcxl"
      }
    },
    {
      "cell_type": "code",
      "source": [
        "# Export the decision tree to a tree.dot file\n",
        "dot_data = export_graphviz(clf, out_file=None,\n",
        "                           feature_names=feature_cols,\n",
        "                           class_names=['0', '1'],\n",
        "                           filled=True, rounded=True,\n",
        "                           special_characters=True)\n",
        "\n",
        "# Visualize the decision tree using Graphviz\n",
        "graph = graphviz.Source(dot_data)\n",
        "graph.render('DTree', view=True)"
      ],
      "metadata": {
        "id": "nzu5B3wKbCTX",
        "colab": {
          "base_uri": "https://localhost:8080/",
          "height": 36
        },
        "outputId": "9a9c7383-fb42-4023-e023-b9967ad72da5"
      },
      "execution_count": 13,
      "outputs": [
        {
          "output_type": "execute_result",
          "data": {
            "text/plain": [
              "'DTree.pdf'"
            ],
            "application/vnd.google.colaboratory.intrinsic+json": {
              "type": "string"
            }
          },
          "metadata": {},
          "execution_count": 13
        }
      ]
    },
    {
      "cell_type": "code",
      "source": [
        "tree_rules = export_text(model, feature_names=names.tolist())\n",
        "# print(\"Decision Tree Rules:\\n\", tree_rules)\n",
        "dot_data = tree.export_graphviz(model, out_file=None,\n",
        "                                feature_names=names.tolist(),\n",
        "                                filled=True, rounded=True,\n",
        "                                special_characters=True)\n",
        "graph = graphviz.Source(dot_data)\n",
        "graph.render(\"CARTtree\")"
      ],
      "metadata": {
        "id": "SD3x2oo_bKKU",
        "colab": {
          "base_uri": "https://localhost:8080/",
          "height": 36
        },
        "outputId": "4d89fe4c-d54f-4b05-fea2-6e8bd56f0575"
      },
      "execution_count": 16,
      "outputs": [
        {
          "output_type": "execute_result",
          "data": {
            "text/plain": [
              "'CARTtree.pdf'"
            ],
            "application/vnd.google.colaboratory.intrinsic+json": {
              "type": "string"
            }
          },
          "metadata": {},
          "execution_count": 16
        }
      ]
    },
    {
      "cell_type": "markdown",
      "source": [
        "# 2. Melakukan tanpa skema bagging\n",
        "     *   Pada Bagging\n",
        "\n",
        "\n",
        "\n"
      ],
      "metadata": {
        "id": "o0_YacHXdLJZ"
      }
    },
    {
      "cell_type": "code",
      "source": [
        "# Load cancer dataset\n",
        "bc = datasets.load_breast_cancer()\n",
        "X = bc.data\n",
        "y = bc.target\n",
        "\n",
        "# Membagi dataset\n",
        "X_train, X_test, y_train, y_test = train_test_split(X, y, test_size=0.25, random_state=1, stratify=y)\n",
        "\n",
        "# Melakukan pipelining\n",
        "pipeline = make_pipeline(StandardScaler(),\n",
        "                        LogisticRegression(random_state=1))\n",
        "\n",
        "# Latih model Logistic Regression pada data latih\n",
        "pipeline.fit(X_train, y_train)\n",
        "\n",
        "# Evaluasi performa model pada data uji dan latih\n",
        "test_score = pipeline.score(X_test, y_test)\n",
        "train_score = pipeline.score(X_train, y_train)\n",
        "\n",
        "print('Model test Score: %.3f, ' % test_score,\n",
        "      'Model training Score: %.3f' % train_score)"
      ],
      "metadata": {
        "colab": {
          "base_uri": "https://localhost:8080/"
        },
        "id": "Gy_oh-tVdWsS",
        "outputId": "f2704ab3-06f9-4283-d855-4127ccf1eba0"
      },
      "execution_count": 17,
      "outputs": [
        {
          "output_type": "stream",
          "name": "stdout",
          "text": [
            "Model test Score: 0.965,  Model training Score: 0.991\n"
          ]
        }
      ]
    }
  ]
}